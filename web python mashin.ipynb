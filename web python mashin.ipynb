{
 "cells": [
  {
   "cell_type": "code",
   "execution_count": 1,
   "metadata": {},
   "outputs": [],
   "source": [
    "#import laibrery\n",
    "\n",
    "import pandas as pd\n",
    "from selenium import webdriver\n",
    "from time import sleep\n"
   ]
  },
  {
   "cell_type": "code",
   "execution_count": null,
   "metadata": {},
   "outputs": [],
   "source": [
    "# import dataset \n",
    "\n",
    "\n",
    "data=pd.read_excel('dataset.xlsx')\n",
    "\n",
    "#data['name']=data['نام']+' '+data['نام خانوادگی']\n"
   ]
  },
  {
   "cell_type": "code",
   "execution_count": 67,
   "metadata": {},
   "outputs": [],
   "source": [
    "#namer of list \n",
    "i=43\n"
   ]
  },
  {
   "cell_type": "raw",
   "metadata": {},
   "source": [
    "#add contact to eita\n",
    "\n",
    "driver=webdriver.Firefox()\n",
    "driver.get('https://web.eitaa.com/')\n",
    "sleep(60)\n",
    "driver.find_element_by_xpath('/html/body/div[2]/div[1]/div[1]/div/div/div[2]/div[3]/div[1]').click()\n",
    "sleep(3)\n",
    "driver.find_element_by_xpath('/html/body/div[2]/div[1]/div[1]/div/div/div[2]/div[3]/div[3]/div[3]').click()\n",
    "#adding phone number to eitaa \n",
    "for number in data['Column1']:\n",
    "    \n",
    "    sleep(3)\n",
    "    driver.find_element_by_xpath('/html/body/div[2]/div[1]/div[1]/div/div[2]/div[2]/button/div').click()\n",
    "    sleep(2)\n",
    "    driver.find_element_by_xpath('/html/body/div[5]/div/div[2]/div[1]/div[1]').send_keys('anj'+str(i))#name of contact\n",
    "    driver.find_element_by_xpath('/html/body/div[5]/div/div[3]/div[1]').send_keys(number)#number of contact\n",
    "    driver.find_element_by_xpath('/html/body/div[5]/div/div[1]/button/div').click()\n",
    "    sleep(2)\n",
    "    try:\n",
    "        driver.find_element_by_xpath('/html/body/div[5]/div/div[1]/span').click()\n",
    "    except:\n",
    "        pass\n",
    "    i+=1\n",
    "\n",
    "#driver.find_element_by_xpath('/html/body/div[2]/div[1]/div[1]/div/div[2]/div[1]/div/input').send_keys('anj'+str(i))\n",
    "#sleep(2)\n",
    "#driver.find_element_by_xpath('/html/body/div[2]/div[1]/div[1]/div/div/div[2]/div[2]/div[3]/div/div/div[1]/div/div/ul/li/div[1]').click()\n"
   ]
  },
  {
   "cell_type": "code",
   "execution_count": 68,
   "metadata": {
    "collapsed": true,
    "jupyter": {
     "outputs_hidden": true
    }
   },
   "outputs": [
    {
     "name": "stderr",
     "output_type": "stream",
     "text": [
      "<ipython-input-68-5ea44ec08d69>:7: DeprecationWarning: find_element_by_xpath is deprecated. Please use find_element(by=By.XPATH, value=xpath) instead\n",
      "  driver.find_element_by_xpath('/html/body/div[2]/div[1]/div[1]/div/div/div[2]/div[3]/div[1]').click()\n",
      "<ipython-input-68-5ea44ec08d69>:9: DeprecationWarning: find_element_by_xpath is deprecated. Please use find_element(by=By.XPATH, value=xpath) instead\n",
      "  driver.find_element_by_xpath('/html/body/div[2]/div[1]/div[1]/div/div/div[2]/div[3]/div[3]/div[3]').click()\n",
      "<ipython-input-68-5ea44ec08d69>:11: DeprecationWarning: find_element_by_xpath is deprecated. Please use find_element(by=By.XPATH, value=xpath) instead\n",
      "  driver.find_element_by_xpath('/html/body/div[2]/div[1]/div[1]/div/div[2]/div[1]/div/input').send_keys('+'+str(98)+str(w))\n",
      "<ipython-input-68-5ea44ec08d69>:14: DeprecationWarning: find_element_by_xpath is deprecated. Please use find_element(by=By.XPATH, value=xpath) instead\n",
      "  driver.find_element_by_xpath('/html/body/div[2]/div[1]/div[1]/div/div[2]/div[2]/div[2]/ul/li/div[1]').click()\n",
      "<ipython-input-68-5ea44ec08d69>:20: DeprecationWarning: find_element_by_xpath is deprecated. Please use find_element(by=By.XPATH, value=xpath) instead\n",
      "  driver.find_element_by_xpath('/html/body/div[2]/div[1]/div[2]/div/div/div[4]/div/div[1]/div[7]/div[1]/div[1]').send_keys('بسمه تعالی\\nحجت الاسلام و المسلمین جناب آقای'+' '+a+' \\nعضو محترم انجمن علمی مهدویت حوزه های علمیه\\n سلام علیکم\\n با احترام و ادب ؛ایام مبارک مبعث پیامبر رحمة للعالمین، خواجه کونین، حضرت ختمی مرتبت محمد مصطفی - صلی الله علیه و آله – را تبریک وتهنیت عرض می کنم. مستحضزید انجمن های علمی حوزه که براساس رهنمودهای مقام معظم رهبری مد ظله العالی تاسیس و راه‌اندازی گردید و در برهه‌ای از فعالیت، به  لحاظ مشکلات و مسایل مالی با‌ دوران سخت و شکننده مواجه شدند که این گره با اتخاذ تدابیری ارزشمند از سوی شورای عالی و مدیریت حوزه‌های علمیه نسبت به پشتیبانی و حمایت برطرف و هم اکنون  مرحله بانشاطی   از تلاش ها و فعالیت های علمی را آغاز نموده اند و این مجال و فرصتی عالمانه فرا روی اندیشوران و صاحب نظران در رشته‌های تخصصی و عرصه‌های علمی فراهم آورده است. طبیعتاً حفظ بالندگی و اثربخشی‌های دانشی در حوزه مهدویت و رونق بخشی به انجمن علمی مهدویت افتخار ومایه مباهات وضرورتی  اجتناب ناپذیر می‌باشد. بر این اساس با توجه به پایان دوره هفتم فعالیت انجمن ؛ برگزاری مجمع عمومی و آغاز دوره جدید فعالیت انجمن علمی مهدویت را به اطلاع می رسانیم.\\nبا افتخار و امتنان از حضرتعالی جهت حضور و عظمت‌بخشی به جمع مهدی پژوهان دعوت به عمل می‌آید. امید اینکه ضمن قبول دعوت؛  ان‌شاءالله در برگزاری انتخابات هیئت مدیره و بازرسان اهتمام و عنایت خواهید داشت. پوستر و برنامه مجمع به پیوست تقدیم می گردد. \\nدوام توفیقات و نقش‌آفرینی افزون در ساحت معارف مهدوی را از بارگاه ربوبی مسئلت دارم.\\nزمان: شنبه 6/12/1401 ساعت 19\\nمکان: بلوار جمهوری، کوچه 2، دبیرخانه انجمن‌های علمی حوزه‌های علمیه\\nبا احترام و تشکر \\nمحمد تقی ربانی\\nرئیس انجمن علمی مهدویت حوزه‌های علمیه  ')\n",
      "<ipython-input-68-5ea44ec08d69>:22: DeprecationWarning: find_element_by_xpath is deprecated. Please use find_element(by=By.XPATH, value=xpath) instead\n",
      "  driver.find_element_by_xpath('/html/body/div[2]/div[1]/div[2]/div/div/div[4]/div/div[4]/button/div').click()\n",
      "<ipython-input-68-5ea44ec08d69>:16: DeprecationWarning: find_element_by_xpath is deprecated. Please use find_element(by=By.XPATH, value=xpath) instead\n",
      "  driver.find_element_by_xpath('/html/body/div[2]/div[1]/div[1]/div/div[2]/div[1]/button').click()\n"
     ]
    }
   ],
   "source": [
    "#sending difrent massage to defrent pipele\n",
    "driver=webdriver.Firefox()\n",
    "driver.get('https://web.eitaa.com/')\n",
    "sleep(60)\n",
    "for a in data['name'][43:] :\n",
    "    w=data['Column1'][i]\n",
    "   \n",
    "    driver.find_element_by_xpath('/html/body/div[2]/div[1]/div[1]/div/div/div[2]/div[3]/div[1]').click()\n",
    "    sleep(3)\n",
    "    driver.find_element_by_xpath('/html/body/div[2]/div[1]/div[1]/div/div/div[2]/div[3]/div[3]/div[3]').click()\n",
    "    sleep(3)\n",
    "    driver.find_element_by_xpath('/html/body/div[2]/div[1]/div[1]/div/div[2]/div[1]/div/input').send_keys('+'+str(98)+str(w))\n",
    "    sleep(3)\n",
    "    try:\n",
    "        driver.find_element_by_xpath('/html/body/div[2]/div[1]/div[1]/div/div[2]/div[2]/div[2]/ul/li/div[1]').click()\n",
    "    except:\n",
    "        driver.find_element_by_xpath('/html/body/div[2]/div[1]/div[1]/div/div[2]/div[1]/button').click()\n",
    "        i+=1\n",
    "        continue  \n",
    "    sleep(3)\n",
    "    driver.find_element_by_xpath('/html/body/div[2]/div[1]/div[2]/div/div/div[4]/div/div[1]/div[7]/div[1]/div[1]').send_keys('this name is'+str(a)+'text for sending to evreone ')\n",
    "    sleep(2)\n",
    "    driver.find_element_by_xpath('/html/body/div[2]/div[1]/div[2]/div/div/div[4]/div/div[4]/button/div').click()\n",
    "    sleep(3)\n",
    "    i+=1\n"
   ]
  }
 ],
 "metadata": {
  "kernelspec": {
   "display_name": "Python 3",
   "language": "python",
   "name": "python3"
  },
  "language_info": {
   "codemirror_mode": {
    "name": "ipython",
    "version": 3
   },
   "file_extension": ".py",
   "mimetype": "text/x-python",
   "name": "python",
   "nbconvert_exporter": "python",
   "pygments_lexer": "ipython3",
   "version": "3.8.5"
  }
 },
 "nbformat": 4,
 "nbformat_minor": 4
}
